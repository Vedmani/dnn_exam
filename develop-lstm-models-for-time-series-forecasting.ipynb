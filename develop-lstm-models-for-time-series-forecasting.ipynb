{
 "cells": [
  {
   "cell_type": "markdown",
   "id": "roman-duration",
   "metadata": {
    "papermill": {
     "duration": 0.019942,
     "end_time": "2021-05-09T15:39:21.506194",
     "exception": false,
     "start_time": "2021-05-09T15:39:21.486252",
     "status": "completed"
    },
    "tags": []
   },
   "source": [
    "# Develop LSTM Models for Time Series Forecasting"
   ]
  },
  {
   "cell_type": "markdown",
   "id": "honest-commodity",
   "metadata": {
    "papermill": {
     "duration": 0.018156,
     "end_time": "2021-05-09T15:39:21.543188",
     "exception": false,
     "start_time": "2021-05-09T15:39:21.525032",
     "status": "completed"
    },
    "tags": []
   },
   "source": [
    "## **Overview** \n",
    "**we will explore how to develop a suite of different types of LSTM models for time series forecasting.**\n",
    "\n",
    "* ### **Univariate LSTM Models**\n",
    "\n",
    "1. Data Preparation\n",
    "2. Vanilla LSTM\n",
    "3. Stacked LSTM\n",
    "4. Bidirectional LSTM\n",
    "5. CNN LSTM\n",
    "6. ConvLSTM \n",
    "\n",
    "\n",
    "* ### **Multivariate LSTM Models**\n",
    "\n",
    "* ### **Multi-Step LSTM Models**\n",
    "\n",
    "* ### **Multivariate Multi-Step LSTM Models**\n",
    "\n",
    " "
   ]
  },
  {
   "cell_type": "markdown",
   "id": "aboriginal-specification",
   "metadata": {
    "papermill": {
     "duration": 0.018078,
     "end_time": "2021-05-09T15:39:21.579800",
     "exception": false,
     "start_time": "2021-05-09T15:39:21.561722",
     "status": "completed"
    },
    "tags": []
   },
   "source": [
    "## Univariate LSTM Models\n",
    "LSTMs can be used to model univariate time series forecasting problems.\n",
    "\n",
    "These are problems comprised of a single series of observations and a model is required to learn from the series of past observations to predict the next value in the sequence.\n",
    "\n",
    "We will demonstrate a number of variations of the LSTM model for univariate time series forecasting"
   ]
  },
  {
   "cell_type": "markdown",
   "id": "prime-pavilion",
   "metadata": {
    "papermill": {
     "duration": 0.018217,
     "end_time": "2021-05-09T15:39:21.616678",
     "exception": false,
     "start_time": "2021-05-09T15:39:21.598461",
     "status": "completed"
    },
    "tags": []
   },
   "source": [
    "## 1. Data Preparation"
   ]
  },
  {
   "cell_type": "code",
   "execution_count": 1,
   "id": "casual-shape",
   "metadata": {
    "execution": {
     "iopub.execute_input": "2021-05-09T15:39:21.662455Z",
     "iopub.status.busy": "2021-05-09T15:39:21.660642Z",
     "iopub.status.idle": "2021-05-09T15:39:21.682518Z",
     "shell.execute_reply": "2021-05-09T15:39:21.681538Z"
    },
    "papermill": {
     "duration": 0.045743,
     "end_time": "2021-05-09T15:39:21.682770",
     "exception": false,
     "start_time": "2021-05-09T15:39:21.637027",
     "status": "completed"
    },
    "tags": []
   },
   "outputs": [
    {
     "name": "stdout",
     "output_type": "stream",
     "text": [
      "[10 20 30] 40\n",
      "[20 30 40] 50\n",
      "[30 40 50] 60\n",
      "[40 50 60] 70\n",
      "[50 60 70] 80\n",
      "[60 70 80] 90\n"
     ]
    }
   ],
   "source": [
    "# univariate data preparation\n",
    "from numpy import array\n",
    "\n",
    "# split a univariate sequence into samples\n",
    "def split_sequence(sequence, n_steps):\n",
    "\tX, y = list(), list()\n",
    "\tfor i in range(len(sequence)):\n",
    "\t\t# find the end of this pattern\n",
    "\t\tend_ix = i + n_steps\n",
    "\t\t# check if we are beyond the sequence\n",
    "\t\tif end_ix > len(sequence)-1:\n",
    "\t\t\tbreak\n",
    "\t\t# gather input and output parts of the pattern\n",
    "\t\tseq_x, seq_y = sequence[i:end_ix], sequence[end_ix]\n",
    "\t\tX.append(seq_x)\n",
    "\t\ty.append(seq_y)\n",
    "\treturn array(X), array(y)\n",
    "\n",
    "# define input sequence\n",
    "raw_seq = [10, 20, 30, 40, 50, 60, 70, 80, 90]\n",
    "# choose a number of time steps\n",
    "n_steps = 3\n",
    "# split into samples\n",
    "X, y = split_sequence(raw_seq, n_steps)\n",
    "# summarize the data\n",
    "for i in range(len(X)):\n",
    "\tprint(X[i], y[i])"
   ]
  },
  {
   "cell_type": "markdown",
   "id": "enabling-sarah",
   "metadata": {
    "papermill": {
     "duration": 0.018997,
     "end_time": "2021-05-09T15:39:21.721914",
     "exception": false,
     "start_time": "2021-05-09T15:39:21.702917",
     "status": "completed"
    },
    "tags": []
   },
   "source": [
    "## 2. Vanilla LSTM"
   ]
  },
  {
   "cell_type": "markdown",
   "id": "robust-velvet",
   "metadata": {
    "papermill": {
     "duration": 0.02012,
     "end_time": "2021-05-09T15:39:21.761622",
     "exception": false,
     "start_time": "2021-05-09T15:39:21.741502",
     "status": "completed"
    },
    "tags": []
   },
   "source": [
    "A Vanilla LSTM is an LSTM model that has a single hidden layer of LSTM units, and an output layer used to make a prediction.\n",
    "\n",
    "We can define a Vanilla LSTM for univariate time series forecasting as follows."
   ]
  },
  {
   "cell_type": "code",
   "execution_count": 2,
   "id": "olive-columbia",
   "metadata": {
    "execution": {
     "iopub.execute_input": "2021-05-09T15:39:21.814179Z",
     "iopub.status.busy": "2021-05-09T15:39:21.813430Z",
     "iopub.status.idle": "2021-05-09T15:39:32.206205Z",
     "shell.execute_reply": "2021-05-09T15:39:32.205391Z"
    },
    "papermill": {
     "duration": 10.425251,
     "end_time": "2021-05-09T15:39:32.206404",
     "exception": false,
     "start_time": "2021-05-09T15:39:21.781153",
     "status": "completed"
    },
    "tags": []
   },
   "outputs": [
    {
     "name": "stdout",
     "output_type": "stream",
     "text": [
      "[[102.06099]]\n"
     ]
    }
   ],
   "source": [
    "from numpy import array\n",
    "from keras.models import Sequential\n",
    "from keras.layers import LSTM\n",
    "from keras.layers import Dense\n",
    " \n",
    "# split a univariate sequence into samples\n",
    "def split_sequence(sequence, n_steps):\n",
    "\tX, y = list(), list()\n",
    "\tfor i in range(len(sequence)):\n",
    "\t\t# find the end of this pattern\n",
    "\t\tend_ix = i + n_steps\n",
    "\t\t# check if we are beyond the sequence\n",
    "\t\tif end_ix > len(sequence)-1:\n",
    "\t\t\tbreak\n",
    "\t\t# gather input and output parts of the pattern\n",
    "\t\tseq_x, seq_y = sequence[i:end_ix], sequence[end_ix]\n",
    "\t\tX.append(seq_x)\n",
    "\t\ty.append(seq_y)\n",
    "\treturn array(X), array(y)\n",
    " \n",
    "# define input sequence\n",
    "raw_seq = [10, 20, 30, 40, 50, 60, 70, 80, 90]\n",
    "# choose a number of time steps\n",
    "n_steps = 3\n",
    "# split into samples\n",
    "X, y = split_sequence(raw_seq, n_steps)\n",
    "# reshape from [samples, timesteps] into [samples, timesteps, features]\n",
    "n_features = 1\n",
    "X = X.reshape((X.shape[0], X.shape[1], n_features))\n",
    "# define model\n",
    "model = Sequential()\n",
    "model.add(LSTM(50, activation='relu', input_shape=(n_steps, n_features)))\n",
    "model.add(Dense(1))\n",
    "model.compile(optimizer='adam', loss='mse')\n",
    "# fit model\n",
    "model.fit(X, y, epochs=200, verbose=0)\n",
    "# demonstrate prediction\n",
    "x_input = array([70, 80, 90])\n",
    "x_input = x_input.reshape((1, n_steps, n_features))\n",
    "yhat = model.predict(x_input, verbose=0)\n",
    "print(yhat)"
   ]
  },
  {
   "cell_type": "markdown",
   "id": "dental-windows",
   "metadata": {
    "papermill": {
     "duration": 0.019596,
     "end_time": "2021-05-09T15:39:32.246309",
     "exception": false,
     "start_time": "2021-05-09T15:39:32.226713",
     "status": "completed"
    },
    "tags": []
   },
   "source": [
    "## 3. Stacked LSTM"
   ]
  },
  {
   "cell_type": "markdown",
   "id": "intellectual-transmission",
   "metadata": {
    "papermill": {
     "duration": 0.019538,
     "end_time": "2021-05-09T15:39:32.286228",
     "exception": false,
     "start_time": "2021-05-09T15:39:32.266690",
     "status": "completed"
    },
    "tags": []
   },
   "source": [
    "Multiple hidden LSTM layers can be stacked one on top of another in what is referred to as a Stacked LSTM model.\n",
    "\n",
    "An LSTM layer requires a three-dimensional input and LSTMs by default will produce a two-dimensional output as an interpretation from the end of the sequence.\n",
    "\n",
    "We can address this by having the LSTM output a value for each time step in the input data by setting the return_sequences=True argument on the layer. This allows us to have 3D output from hidden LSTM layer as input to the next."
   ]
  },
  {
   "cell_type": "code",
   "execution_count": 3,
   "id": "sexual-glasgow",
   "metadata": {
    "execution": {
     "iopub.execute_input": "2021-05-09T15:39:32.331068Z",
     "iopub.status.busy": "2021-05-09T15:39:32.330142Z",
     "iopub.status.idle": "2021-05-09T15:39:36.704244Z",
     "shell.execute_reply": "2021-05-09T15:39:36.703124Z"
    },
    "papermill": {
     "duration": 4.398332,
     "end_time": "2021-05-09T15:39:36.704538",
     "exception": false,
     "start_time": "2021-05-09T15:39:32.306206",
     "status": "completed"
    },
    "tags": []
   },
   "outputs": [
    {
     "name": "stdout",
     "output_type": "stream",
     "text": [
      "[[102.222694]]\n"
     ]
    }
   ],
   "source": [
    "# univariate stacked lstm example\n",
    "from numpy import array\n",
    "from keras.models import Sequential\n",
    "from keras.layers import LSTM\n",
    "from keras.layers import Dense\n",
    "\n",
    "# split a univariate sequence\n",
    "def split_sequence(sequence, n_steps):\n",
    "\tX, y = list(), list()\n",
    "\tfor i in range(len(sequence)):\n",
    "\t\t# find the end of this pattern\n",
    "\t\tend_ix = i + n_steps\n",
    "\t\t# check if we are beyond the sequence\n",
    "\t\tif end_ix > len(sequence)-1:\n",
    "\t\t\tbreak\n",
    "\t\t# gather input and output parts of the pattern\n",
    "\t\tseq_x, seq_y = sequence[i:end_ix], sequence[end_ix]\n",
    "\t\tX.append(seq_x)\n",
    "\t\ty.append(seq_y)\n",
    "\treturn array(X), array(y)\n",
    "\n",
    "# define input sequence\n",
    "raw_seq = [10, 20, 30, 40, 50, 60, 70, 80, 90]\n",
    "# choose a number of time steps\n",
    "n_steps = 3\n",
    "# split into samples\n",
    "X, y = split_sequence(raw_seq, n_steps)\n",
    "# reshape from [samples, timesteps] into [samples, timesteps, features]\n",
    "n_features = 1\n",
    "X = X.reshape((X.shape[0], X.shape[1], n_features))\n",
    "# define model\n",
    "model = Sequential()\n",
    "model.add(LSTM(50, activation='relu', return_sequences=True, input_shape=(n_steps, n_features)))\n",
    "model.add(LSTM(50, activation='relu'))\n",
    "model.add(Dense(1))\n",
    "model.compile(optimizer='adam', loss='mse')\n",
    "# fit model\n",
    "model.fit(X, y, epochs=200, verbose=0)\n",
    "# demonstrate prediction\n",
    "x_input = array([70, 80, 90])\n",
    "x_input = x_input.reshape((1, n_steps, n_features))\n",
    "yhat = model.predict(x_input, verbose=0)\n",
    "print(yhat)"
   ]
  },
  {
   "cell_type": "markdown",
   "id": "tough-hypothetical",
   "metadata": {
    "papermill": {
     "duration": 0.020539,
     "end_time": "2021-05-09T15:39:36.748097",
     "exception": false,
     "start_time": "2021-05-09T15:39:36.727558",
     "status": "completed"
    },
    "tags": []
   },
   "source": [
    "## 4. Bidirectional LSTM\n"
   ]
  },
  {
   "cell_type": "markdown",
   "id": "raised-voluntary",
   "metadata": {
    "papermill": {
     "duration": 0.020135,
     "end_time": "2021-05-09T15:39:36.788852",
     "exception": false,
     "start_time": "2021-05-09T15:39:36.768717",
     "status": "completed"
    },
    "tags": []
   },
   "source": [
    "On some sequence prediction problems, it can be beneficial to allow the LSTM model to learn the input sequence both forward and backwards and concatenate both interpretations.\n",
    "\n",
    "This is called a Bidirectional LSTM.\n",
    "\n",
    "We can implement a Bidirectional LSTM for univariate time series forecasting by wrapping the first hidden layer in a wrapper layer called Bidirectional."
   ]
  },
  {
   "cell_type": "code",
   "execution_count": 4,
   "id": "bright-bikini",
   "metadata": {
    "execution": {
     "iopub.execute_input": "2021-05-09T15:39:36.847065Z",
     "iopub.status.busy": "2021-05-09T15:39:36.845750Z",
     "iopub.status.idle": "2021-05-09T15:39:40.403041Z",
     "shell.execute_reply": "2021-05-09T15:39:40.402095Z"
    },
    "papermill": {
     "duration": 3.592713,
     "end_time": "2021-05-09T15:39:40.403238",
     "exception": false,
     "start_time": "2021-05-09T15:39:36.810525",
     "status": "completed"
    },
    "tags": []
   },
   "outputs": [
    {
     "name": "stdout",
     "output_type": "stream",
     "text": [
      "[[100.62728]]\n"
     ]
    }
   ],
   "source": [
    "# univariate bidirectional lstm example\n",
    "from numpy import array\n",
    "from keras.models import Sequential\n",
    "from keras.layers import LSTM\n",
    "from keras.layers import Dense\n",
    "from keras.layers import Bidirectional\n",
    "\n",
    "# split a univariate sequence\n",
    "def split_sequence(sequence, n_steps):\n",
    "\tX, y = list(), list()\n",
    "\tfor i in range(len(sequence)):\n",
    "\t\t# find the end of this pattern\n",
    "\t\tend_ix = i + n_steps\n",
    "\t\t# check if we are beyond the sequence\n",
    "\t\tif end_ix > len(sequence)-1:\n",
    "\t\t\tbreak\n",
    "\t\t# gather input and output parts of the pattern\n",
    "\t\tseq_x, seq_y = sequence[i:end_ix], sequence[end_ix]\n",
    "\t\tX.append(seq_x)\n",
    "\t\ty.append(seq_y)\n",
    "\treturn array(X), array(y)\n",
    "\n",
    "# define input sequence\n",
    "raw_seq = [10, 20, 30, 40, 50, 60, 70, 80, 90]\n",
    "# choose a number of time steps\n",
    "n_steps = 3\n",
    "# split into samples\n",
    "X, y = split_sequence(raw_seq, n_steps)\n",
    "# reshape from [samples, timesteps] into [samples, timesteps, features]\n",
    "n_features = 1\n",
    "X = X.reshape((X.shape[0], X.shape[1], n_features))\n",
    "# define model\n",
    "model = Sequential()\n",
    "model.add(Bidirectional(LSTM(50, activation='relu'), input_shape=(n_steps, n_features)))\n",
    "model.add(Dense(1))\n",
    "model.compile(optimizer='adam', loss='mse')\n",
    "# fit model\n",
    "model.fit(X, y, epochs=200, verbose=0)\n",
    "# demonstrate prediction\n",
    "x_input = array([70, 80, 90])\n",
    "x_input = x_input.reshape((1, n_steps, n_features))\n",
    "yhat = model.predict(x_input, verbose=0)\n",
    "print(yhat)"
   ]
  },
  {
   "cell_type": "markdown",
   "id": "played-checklist",
   "metadata": {
    "papermill": {
     "duration": 0.020115,
     "end_time": "2021-05-09T15:39:40.444457",
     "exception": false,
     "start_time": "2021-05-09T15:39:40.424342",
     "status": "completed"
    },
    "tags": []
   },
   "source": [
    "## 5. CNN LSTM "
   ]
  },
  {
   "cell_type": "markdown",
   "id": "extreme-ceremony",
   "metadata": {
    "papermill": {
     "duration": 0.020026,
     "end_time": "2021-05-09T15:39:40.485238",
     "exception": false,
     "start_time": "2021-05-09T15:39:40.465212",
     "status": "completed"
    },
    "tags": []
   },
   "source": [
    "A convolutional neural network, or CNN for short, is a type of neural network developed for working with two-dimensional image data.\n",
    "\n",
    "The CNN can be very effective at automatically extracting and learning features from one-dimensional sequence data such as univariate time series data."
   ]
  },
  {
   "cell_type": "code",
   "execution_count": 5,
   "id": "outstanding-enzyme",
   "metadata": {
    "execution": {
     "iopub.execute_input": "2021-05-09T15:39:40.546906Z",
     "iopub.status.busy": "2021-05-09T15:39:40.545929Z",
     "iopub.status.idle": "2021-05-09T15:39:44.194264Z",
     "shell.execute_reply": "2021-05-09T15:39:44.195256Z"
    },
    "papermill": {
     "duration": 3.689954,
     "end_time": "2021-05-09T15:39:44.195651",
     "exception": false,
     "start_time": "2021-05-09T15:39:40.505697",
     "status": "completed"
    },
    "tags": []
   },
   "outputs": [
    {
     "name": "stdout",
     "output_type": "stream",
     "text": [
      "[[100.63531]]\n"
     ]
    }
   ],
   "source": [
    "# univariate cnn lstm example\n",
    "from numpy import array\n",
    "from keras.models import Sequential\n",
    "from keras.layers import LSTM\n",
    "from keras.layers import Dense\n",
    "from keras.layers import Flatten\n",
    "from keras.layers import TimeDistributed\n",
    "from keras.layers.convolutional import Conv1D\n",
    "from keras.layers.convolutional import MaxPooling1D\n",
    "\n",
    "# split a univariate sequence into samples\n",
    "def split_sequence(sequence, n_steps):\n",
    "\tX, y = list(), list()\n",
    "\tfor i in range(len(sequence)):\n",
    "\t\t# find the end of this pattern\n",
    "\t\tend_ix = i + n_steps\n",
    "\t\t# check if we are beyond the sequence\n",
    "\t\tif end_ix > len(sequence)-1:\n",
    "\t\t\tbreak\n",
    "\t\t# gather input and output parts of the pattern\n",
    "\t\tseq_x, seq_y = sequence[i:end_ix], sequence[end_ix]\n",
    "\t\tX.append(seq_x)\n",
    "\t\ty.append(seq_y)\n",
    "\treturn array(X), array(y)\n",
    "\n",
    "# define input sequence\n",
    "raw_seq = [10, 20, 30, 40, 50, 60, 70, 80, 90]\n",
    "# choose a number of time steps\n",
    "n_steps = 4\n",
    "# split into samples\n",
    "X, y = split_sequence(raw_seq, n_steps)\n",
    "# reshape from [samples, timesteps] into [samples, subsequences, timesteps, features]\n",
    "n_features = 1\n",
    "n_seq = 2\n",
    "n_steps = 2\n",
    "X = X.reshape((X.shape[0], n_seq, n_steps, n_features))\n",
    "# define model\n",
    "model = Sequential()\n",
    "model.add(TimeDistributed(Conv1D(filters=64, kernel_size=1, activation='relu'), input_shape=(None, n_steps, n_features)))\n",
    "model.add(TimeDistributed(MaxPooling1D(pool_size=2)))\n",
    "model.add(TimeDistributed(Flatten()))\n",
    "model.add(LSTM(50, activation='relu'))\n",
    "model.add(Dense(1))\n",
    "model.compile(optimizer='adam', loss='mse')\n",
    "# fit model\n",
    "model.fit(X, y, epochs=500, verbose=0)\n",
    "# demonstrate prediction\n",
    "x_input = array([60, 70, 80, 90])\n",
    "x_input = x_input.reshape((1, n_seq, n_steps, n_features))\n",
    "yhat = model.predict(x_input, verbose=0)\n",
    "print(yhat)"
   ]
  },
  {
   "cell_type": "markdown",
   "id": "musical-palestine",
   "metadata": {
    "papermill": {
     "duration": 0.021287,
     "end_time": "2021-05-09T15:39:44.238689",
     "exception": false,
     "start_time": "2021-05-09T15:39:44.217402",
     "status": "completed"
    },
    "tags": []
   },
   "source": [
    "## 6. ConvLSTM"
   ]
  },
  {
   "cell_type": "markdown",
   "id": "sophisticated-defensive",
   "metadata": {
    "papermill": {
     "duration": 0.020958,
     "end_time": "2021-05-09T15:39:44.280749",
     "exception": false,
     "start_time": "2021-05-09T15:39:44.259791",
     "status": "completed"
    },
    "tags": []
   },
   "source": [
    "A type of LSTM related to the CNN-LSTM is the ConvLSTM, where the convolutional reading of input is built directly into each LSTM unit.\n",
    "\n",
    "The ConvLSTM was developed for reading two-dimensional spatial-temporal data, but can be adapted for use with univariate time series forecasting."
   ]
  },
  {
   "cell_type": "code",
   "execution_count": 6,
   "id": "effective-cisco",
   "metadata": {
    "execution": {
     "iopub.execute_input": "2021-05-09T15:39:44.338862Z",
     "iopub.status.busy": "2021-05-09T15:39:44.333168Z",
     "iopub.status.idle": "2021-05-09T15:39:50.570292Z",
     "shell.execute_reply": "2021-05-09T15:39:50.571684Z"
    },
    "papermill": {
     "duration": 6.270194,
     "end_time": "2021-05-09T15:39:50.572264",
     "exception": false,
     "start_time": "2021-05-09T15:39:44.302070",
     "status": "completed"
    },
    "tags": []
   },
   "outputs": [
    {
     "name": "stdout",
     "output_type": "stream",
     "text": [
      "[[102.47826]]\n"
     ]
    }
   ],
   "source": [
    "# univariate convlstm example\n",
    "from numpy import array\n",
    "from keras.models import Sequential\n",
    "from keras.layers import LSTM\n",
    "from keras.layers import Dense\n",
    "from keras.layers import Flatten\n",
    "from keras.layers import ConvLSTM2D\n",
    "\n",
    "# split a univariate sequence into samples\n",
    "def split_sequence(sequence, n_steps):\n",
    "\tX, y = list(), list()\n",
    "\tfor i in range(len(sequence)):\n",
    "\t\t# find the end of this pattern\n",
    "\t\tend_ix = i + n_steps\n",
    "\t\t# check if we are beyond the sequence\n",
    "\t\tif end_ix > len(sequence)-1:\n",
    "\t\t\tbreak\n",
    "\t\t# gather input and output parts of the pattern\n",
    "\t\tseq_x, seq_y = sequence[i:end_ix], sequence[end_ix]\n",
    "\t\tX.append(seq_x)\n",
    "\t\ty.append(seq_y)\n",
    "\treturn array(X), array(y)\n",
    "\n",
    "# define input sequence\n",
    "raw_seq = [10, 20, 30, 40, 50, 60, 70, 80, 90]\n",
    "# choose a number of time steps\n",
    "n_steps = 4\n",
    "# split into samples\n",
    "X, y = split_sequence(raw_seq, n_steps)\n",
    "# reshape from [samples, timesteps] into [samples, timesteps, rows, columns, features]\n",
    "n_features = 1\n",
    "n_seq = 2\n",
    "n_steps = 2\n",
    "X = X.reshape((X.shape[0], n_seq, 1, n_steps, n_features))\n",
    "# define model\n",
    "model = Sequential()\n",
    "model.add(ConvLSTM2D(filters=64, kernel_size=(1,2), activation='relu', input_shape=(n_seq, 1, n_steps, n_features)))\n",
    "model.add(Flatten())\n",
    "model.add(Dense(1))\n",
    "model.compile(optimizer='adam', loss='mse')\n",
    "# fit model\n",
    "model.fit(X, y, epochs=500, verbose=0)\n",
    "# demonstrate prediction\n",
    "x_input = array([60, 70, 80, 90])\n",
    "x_input = x_input.reshape((1, n_seq, 1, n_steps, n_features))\n",
    "yhat = model.predict(x_input, verbose=0)\n",
    "print(yhat)"
   ]
  },
  {
   "cell_type": "markdown",
   "id": "ruled-medicine",
   "metadata": {
    "papermill": {
     "duration": 0.021203,
     "end_time": "2021-05-09T15:39:50.616104",
     "exception": false,
     "start_time": "2021-05-09T15:39:50.594901",
     "status": "completed"
    },
    "tags": []
   },
   "source": [
    "* ## Multivariate LSTM Models"
   ]
  },
  {
   "cell_type": "markdown",
   "id": "familiar-marriage",
   "metadata": {
    "papermill": {
     "duration": 0.020994,
     "end_time": "2021-05-09T15:39:50.658839",
     "exception": false,
     "start_time": "2021-05-09T15:39:50.637845",
     "status": "completed"
    },
    "tags": []
   },
   "source": [
    "Multivariate time series data means data where there is more than one observation for each time step.\n",
    "\n"
   ]
  },
  {
   "cell_type": "code",
   "execution_count": 7,
   "id": "charming-philip",
   "metadata": {
    "execution": {
     "iopub.execute_input": "2021-05-09T15:39:50.717162Z",
     "iopub.status.busy": "2021-05-09T15:39:50.711869Z",
     "iopub.status.idle": "2021-05-09T15:39:53.060133Z",
     "shell.execute_reply": "2021-05-09T15:39:53.059244Z"
    },
    "papermill": {
     "duration": 2.379797,
     "end_time": "2021-05-09T15:39:53.060313",
     "exception": false,
     "start_time": "2021-05-09T15:39:50.680516",
     "status": "completed"
    },
    "tags": []
   },
   "outputs": [
    {
     "name": "stdout",
     "output_type": "stream",
     "text": [
      "[[204.23697]]\n"
     ]
    }
   ],
   "source": [
    "# multivariate lstm example\n",
    "from numpy import array\n",
    "from numpy import hstack\n",
    "from keras.models import Sequential\n",
    "from keras.layers import LSTM\n",
    "from keras.layers import Dense\n",
    "\n",
    "# split a multivariate sequence into samples\n",
    "def split_sequences(sequences, n_steps):\n",
    "\tX, y = list(), list()\n",
    "\tfor i in range(len(sequences)):\n",
    "\t\t# find the end of this pattern\n",
    "\t\tend_ix = i + n_steps\n",
    "\t\t# check if we are beyond the dataset\n",
    "\t\tif end_ix > len(sequences):\n",
    "\t\t\tbreak\n",
    "\t\t# gather input and output parts of the pattern\n",
    "\t\tseq_x, seq_y = sequences[i:end_ix, :-1], sequences[end_ix-1, -1]\n",
    "\t\tX.append(seq_x)\n",
    "\t\ty.append(seq_y)\n",
    "\treturn array(X), array(y)\n",
    "\n",
    "# define input sequence\n",
    "in_seq1 = array([10, 20, 30, 40, 50, 60, 70, 80, 90])\n",
    "in_seq2 = array([15, 25, 35, 45, 55, 65, 75, 85, 95])\n",
    "out_seq = array([in_seq1[i]+in_seq2[i] for i in range(len(in_seq1))])\n",
    "# convert to [rows, columns] structure\n",
    "in_seq1 = in_seq1.reshape((len(in_seq1), 1))\n",
    "in_seq2 = in_seq2.reshape((len(in_seq2), 1))\n",
    "out_seq = out_seq.reshape((len(out_seq), 1))\n",
    "# horizontally stack columns\n",
    "dataset = hstack((in_seq1, in_seq2, out_seq))\n",
    "# choose a number of time steps\n",
    "n_steps = 3\n",
    "# convert into input/output\n",
    "X, y = split_sequences(dataset, n_steps)\n",
    "# the dataset knows the number of features, e.g. 2\n",
    "n_features = X.shape[2]\n",
    "# define model\n",
    "model = Sequential()\n",
    "model.add(LSTM(50, activation='relu', input_shape=(n_steps, n_features)))\n",
    "model.add(Dense(1))\n",
    "model.compile(optimizer='adam', loss='mse')\n",
    "# fit model\n",
    "model.fit(X, y, epochs=200, verbose=0)\n",
    "# demonstrate prediction\n",
    "x_input = array([[80, 85], [90, 95], [100, 105]])\n",
    "x_input = x_input.reshape((1, n_steps, n_features))\n",
    "yhat = model.predict(x_input, verbose=0)\n",
    "print(yhat)"
   ]
  },
  {
   "cell_type": "markdown",
   "id": "earned-bargain",
   "metadata": {
    "papermill": {
     "duration": 0.023589,
     "end_time": "2021-05-09T15:39:53.106397",
     "exception": false,
     "start_time": "2021-05-09T15:39:53.082808",
     "status": "completed"
    },
    "tags": []
   },
   "source": [
    "* ##  Multi-Step LSTM Models"
   ]
  },
  {
   "cell_type": "markdown",
   "id": "inappropriate-lawyer",
   "metadata": {
    "papermill": {
     "duration": 0.022073,
     "end_time": "2021-05-09T15:39:53.150775",
     "exception": false,
     "start_time": "2021-05-09T15:39:53.128702",
     "status": "completed"
    },
    "tags": []
   },
   "source": [
    "A time series forecasting problem that requires a prediction of multiple time steps into the future can be referred to as multi-step time series forecasting"
   ]
  },
  {
   "cell_type": "code",
   "execution_count": 8,
   "id": "ignored-bikini",
   "metadata": {
    "execution": {
     "iopub.execute_input": "2021-05-09T15:39:53.212971Z",
     "iopub.status.busy": "2021-05-09T15:39:53.211656Z",
     "iopub.status.idle": "2021-05-09T15:39:56.511085Z",
     "shell.execute_reply": "2021-05-09T15:39:56.512065Z"
    },
    "papermill": {
     "duration": 3.339393,
     "end_time": "2021-05-09T15:39:56.512314",
     "exception": false,
     "start_time": "2021-05-09T15:39:53.172921",
     "status": "completed"
    },
    "tags": []
   },
   "outputs": [
    {
     "name": "stdout",
     "output_type": "stream",
     "text": [
      "[[122.95931 139.88571]]\n"
     ]
    }
   ],
   "source": [
    "# univariate multi-step vector-output stacked lstm example\n",
    "from numpy import array\n",
    "from keras.models import Sequential\n",
    "from keras.layers import LSTM\n",
    "from keras.layers import Dense\n",
    "\n",
    "# split a univariate sequence into samples\n",
    "def split_sequence(sequence, n_steps_in, n_steps_out):\n",
    "\tX, y = list(), list()\n",
    "\tfor i in range(len(sequence)):\n",
    "\t\t# find the end of this pattern\n",
    "\t\tend_ix = i + n_steps_in\n",
    "\t\tout_end_ix = end_ix + n_steps_out\n",
    "\t\t# check if we are beyond the sequence\n",
    "\t\tif out_end_ix > len(sequence):\n",
    "\t\t\tbreak\n",
    "\t\t# gather input and output parts of the pattern\n",
    "\t\tseq_x, seq_y = sequence[i:end_ix], sequence[end_ix:out_end_ix]\n",
    "\t\tX.append(seq_x)\n",
    "\t\ty.append(seq_y)\n",
    "\treturn array(X), array(y)\n",
    "\n",
    "# define input sequence\n",
    "raw_seq = [10, 20, 30, 40, 50, 60, 70, 80, 90]\n",
    "# choose a number of time steps\n",
    "n_steps_in, n_steps_out = 3, 2\n",
    "# split into samples\n",
    "X, y = split_sequence(raw_seq, n_steps_in, n_steps_out)\n",
    "# reshape from [samples, timesteps] into [samples, timesteps, features]\n",
    "n_features = 1\n",
    "X = X.reshape((X.shape[0], X.shape[1], n_features))\n",
    "# define model\n",
    "model = Sequential()\n",
    "model.add(LSTM(100, activation='relu', return_sequences=True, input_shape=(n_steps_in, n_features)))\n",
    "model.add(LSTM(100, activation='relu'))\n",
    "model.add(Dense(n_steps_out))\n",
    "model.compile(optimizer='adam', loss='mse')\n",
    "# fit model\n",
    "model.fit(X, y, epochs=50, verbose=0)\n",
    "# demonstrate prediction\n",
    "x_input = array([70, 80, 90])\n",
    "x_input = x_input.reshape((1, n_steps_in, n_features))\n",
    "yhat = model.predict(x_input, verbose=0)\n",
    "print(yhat)"
   ]
  },
  {
   "cell_type": "markdown",
   "id": "incident-shirt",
   "metadata": {
    "papermill": {
     "duration": 0.02565,
     "end_time": "2021-05-09T15:39:56.561197",
     "exception": false,
     "start_time": "2021-05-09T15:39:56.535547",
     "status": "completed"
    },
    "tags": []
   },
   "source": [
    "* ## Encoder-Decoder LSTM\n"
   ]
  },
  {
   "cell_type": "code",
   "execution_count": 9,
   "id": "about-webmaster",
   "metadata": {
    "execution": {
     "iopub.execute_input": "2021-05-09T15:39:56.617384Z",
     "iopub.status.busy": "2021-05-09T15:39:56.616305Z",
     "iopub.status.idle": "2021-05-09T15:40:00.302407Z",
     "shell.execute_reply": "2021-05-09T15:40:00.303505Z"
    },
    "papermill": {
     "duration": 3.719091,
     "end_time": "2021-05-09T15:40:00.303869",
     "exception": false,
     "start_time": "2021-05-09T15:39:56.584778",
     "status": "completed"
    },
    "tags": []
   },
   "outputs": [
    {
     "name": "stdout",
     "output_type": "stream",
     "text": [
      "[[[ 99.6382 ]\n",
      "  [112.53653]]]\n"
     ]
    }
   ],
   "source": [
    "# univariate multi-step encoder-decoder lstm example\n",
    "from numpy import array\n",
    "from keras.models import Sequential\n",
    "from keras.layers import LSTM\n",
    "from keras.layers import Dense\n",
    "from keras.layers import RepeatVector\n",
    "from keras.layers import TimeDistributed\n",
    "\n",
    "# split a univariate sequence into samples\n",
    "def split_sequence(sequence, n_steps_in, n_steps_out):\n",
    "\tX, y = list(), list()\n",
    "\tfor i in range(len(sequence)):\n",
    "\t\t# find the end of this pattern\n",
    "\t\tend_ix = i + n_steps_in\n",
    "\t\tout_end_ix = end_ix + n_steps_out\n",
    "\t\t# check if we are beyond the sequence\n",
    "\t\tif out_end_ix > len(sequence):\n",
    "\t\t\tbreak\n",
    "\t\t# gather input and output parts of the pattern\n",
    "\t\tseq_x, seq_y = sequence[i:end_ix], sequence[end_ix:out_end_ix]\n",
    "\t\tX.append(seq_x)\n",
    "\t\ty.append(seq_y)\n",
    "\treturn array(X), array(y)\n",
    "\n",
    "# define input sequence\n",
    "raw_seq = [10, 20, 30, 40, 50, 60, 70, 80, 90]\n",
    "# choose a number of time steps\n",
    "n_steps_in, n_steps_out = 3, 2\n",
    "# split into samples\n",
    "X, y = split_sequence(raw_seq, n_steps_in, n_steps_out)\n",
    "# reshape from [samples, timesteps] into [samples, timesteps, features]\n",
    "n_features = 1\n",
    "X = X.reshape((X.shape[0], X.shape[1], n_features))\n",
    "y = y.reshape((y.shape[0], y.shape[1], n_features))\n",
    "# define model\n",
    "model = Sequential()\n",
    "model.add(LSTM(100, activation='relu', input_shape=(n_steps_in, n_features)))\n",
    "model.add(RepeatVector(n_steps_out))\n",
    "model.add(LSTM(100, activation='relu', return_sequences=True))\n",
    "model.add(TimeDistributed(Dense(1)))\n",
    "model.compile(optimizer='adam', loss='mse')\n",
    "# fit model\n",
    "model.fit(X, y, epochs=100, verbose=0)\n",
    "# demonstrate prediction\n",
    "x_input = array([70, 80, 90])\n",
    "x_input = x_input.reshape((1, n_steps_in, n_features))\n",
    "yhat = model.predict(x_input, verbose=0)\n",
    "print(yhat)"
   ]
  },
  {
   "cell_type": "markdown",
   "id": "included-venice",
   "metadata": {
    "papermill": {
     "duration": 0.022803,
     "end_time": "2021-05-09T15:40:00.350942",
     "exception": false,
     "start_time": "2021-05-09T15:40:00.328139",
     "status": "completed"
    },
    "tags": []
   },
   "source": [
    "* ## Multivariate Multi-Step LSTM Models\n"
   ]
  },
  {
   "cell_type": "code",
   "execution_count": 10,
   "id": "harmful-intake",
   "metadata": {
    "execution": {
     "iopub.execute_input": "2021-05-09T15:40:00.401676Z",
     "iopub.status.busy": "2021-05-09T15:40:00.400864Z",
     "iopub.status.idle": "2021-05-09T15:40:05.290481Z",
     "shell.execute_reply": "2021-05-09T15:40:05.291226Z"
    },
    "papermill": {
     "duration": 4.917163,
     "end_time": "2021-05-09T15:40:05.291446",
     "exception": false,
     "start_time": "2021-05-09T15:40:00.374283",
     "status": "completed"
    },
    "tags": []
   },
   "outputs": [
    {
     "name": "stdout",
     "output_type": "stream",
     "text": [
      "[[187.31516 208.35542]]\n"
     ]
    }
   ],
   "source": [
    "# multivariate multi-step stacked lstm example\n",
    "from numpy import array\n",
    "from numpy import hstack\n",
    "from keras.models import Sequential\n",
    "from keras.layers import LSTM\n",
    "from keras.layers import Dense\n",
    "\n",
    "# split a multivariate sequence into samples\n",
    "def split_sequences(sequences, n_steps_in, n_steps_out):\n",
    "\tX, y = list(), list()\n",
    "\tfor i in range(len(sequences)):\n",
    "\t\t# find the end of this pattern\n",
    "\t\tend_ix = i + n_steps_in\n",
    "\t\tout_end_ix = end_ix + n_steps_out-1\n",
    "\t\t# check if we are beyond the dataset\n",
    "\t\tif out_end_ix > len(sequences):\n",
    "\t\t\tbreak\n",
    "\t\t# gather input and output parts of the pattern\n",
    "\t\tseq_x, seq_y = sequences[i:end_ix, :-1], sequences[end_ix-1:out_end_ix, -1]\n",
    "\t\tX.append(seq_x)\n",
    "\t\ty.append(seq_y)\n",
    "\treturn array(X), array(y)\n",
    "\n",
    "# define input sequence\n",
    "in_seq1 = array([10, 20, 30, 40, 50, 60, 70, 80, 90])\n",
    "in_seq2 = array([15, 25, 35, 45, 55, 65, 75, 85, 95])\n",
    "out_seq = array([in_seq1[i]+in_seq2[i] for i in range(len(in_seq1))])\n",
    "# convert to [rows, columns] structure\n",
    "in_seq1 = in_seq1.reshape((len(in_seq1), 1))\n",
    "in_seq2 = in_seq2.reshape((len(in_seq2), 1))\n",
    "out_seq = out_seq.reshape((len(out_seq), 1))\n",
    "# horizontally stack columns\n",
    "dataset = hstack((in_seq1, in_seq2, out_seq))\n",
    "# choose a number of time steps\n",
    "n_steps_in, n_steps_out = 3, 2\n",
    "# covert into input/output\n",
    "X, y = split_sequences(dataset, n_steps_in, n_steps_out)\n",
    "# the dataset knows the number of features, e.g. 2\n",
    "n_features = X.shape[2]\n",
    "# define model\n",
    "model = Sequential()\n",
    "model.add(LSTM(100, activation='relu', return_sequences=True, input_shape=(n_steps_in, n_features)))\n",
    "model.add(LSTM(100, activation='relu'))\n",
    "model.add(Dense(n_steps_out))\n",
    "model.compile(optimizer='adam', loss='mse')\n",
    "# fit model\n",
    "model.fit(X, y, epochs=200, verbose=0)\n",
    "# demonstrate prediction\n",
    "x_input = array([[70, 75], [80, 85], [90, 95]])\n",
    "x_input = x_input.reshape((1, n_steps_in, n_features))\n",
    "yhat = model.predict(x_input, verbose=0)\n",
    "print(yhat)"
   ]
  },
  {
   "cell_type": "markdown",
   "id": "moderate-damages",
   "metadata": {
    "papermill": {
     "duration": 0.022741,
     "end_time": "2021-05-09T15:40:05.337808",
     "exception": false,
     "start_time": "2021-05-09T15:40:05.315067",
     "status": "completed"
    },
    "tags": []
   },
   "source": [
    "Reference:-  https://machinelearningmastery.com/how-to-develop-lstm-models-for-time-series-forecastings/"
   ]
  }
 ],
 "metadata": {
  "kernelspec": {
   "display_name": "Python 3",
   "language": "python",
   "name": "python3"
  },
  "language_info": {
   "codemirror_mode": {
    "name": "ipython",
    "version": 3
   },
   "file_extension": ".py",
   "mimetype": "text/x-python",
   "name": "python",
   "nbconvert_exporter": "python",
   "pygments_lexer": "ipython3",
   "version": "3.7.9"
  },
  "papermill": {
   "default_parameters": {},
   "duration": 53.203024,
   "end_time": "2021-05-09T15:40:07.079945",
   "environment_variables": {},
   "exception": null,
   "input_path": "__notebook__.ipynb",
   "output_path": "__notebook__.ipynb",
   "parameters": {},
   "start_time": "2021-05-09T15:39:13.876921",
   "version": "2.3.2"
  }
 },
 "nbformat": 4,
 "nbformat_minor": 5
}
